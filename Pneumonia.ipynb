{
 "cells": [
  {
   "cell_type": "markdown",
   "metadata": {
    "_uuid": "ad4c6cdddda8361c6ceb3dc5030180a8a5fa2c53"
   },
   "source": [
    "# <font color='purple'>The purpose of this exercise is to see how accurate of a Neural Network we can create to classify X-Ray scans from patients with pneumonia. </font>\n",
    "\n",
    "![https://media.giphy.com/media/l0MYtoPNAQ0YCgNVe/giphy.gif](https://media.giphy.com/media/l0MYtoPNAQ0YCgNVe/giphy.gif)"
   ]
  },
  {
   "cell_type": "markdown",
   "metadata": {
    "_uuid": "b7ae7f85f701da5ac77f3e12ec508d3c898b66f3"
   },
   "source": [
    "# <font color ='purple'>Let's start by Importing the required libraries </font>"
   ]
  },
  {
   "cell_type": "code",
   "execution_count": null,
   "metadata": {
    "_cell_guid": "b1076dfc-b9ad-4769-8c92-a6c4dae69d19",
    "_uuid": "8f2839f25d086af736a60e9eeb907d3b93b6e0e5",
    "collapsed": true
   },
   "outputs": [],
   "source": [
    "\n",
    "import numpy as np # forlinear algebra\n",
    "import matplotlib.pyplot as plt #for plotting things\n",
    "import os\n",
    "from PIL import Image\n",
    "print(os.listdir(\"../input\"))\n",
    "\n",
    "# Keras Libraries\n",
    "import keras\n",
    "from keras.models import Sequential\n",
    "from keras.layers import Conv2D\n",
    "from keras.layers import MaxPooling2D\n",
    "from keras.layers import Flatten\n",
    "from keras.layers import Dense\n",
    "from keras.preprocessing.image import ImageDataGenerator, load_img"
   ]
  },
  {
   "cell_type": "markdown",
   "metadata": {
    "_uuid": "21c899ce5c2fff6b0728a397550f7f1fb3903a20"
   },
   "source": [
    " ## <font color='purple'>  Our data is located in three folders:</font>\n",
    "   \n",
    "1. train= contains the training data/images for teaching our model.\n",
    "2.  val= contains images which we will use to validate our model. The purpose of this data set is to prevent our model from **Overfitting**. Overfitting is when your model gets a little too comofortable with the training data and can't handle data it hasn't see....too well.\n",
    "3. test = this contains the data that we use to test the model once it has learned the relationships between the images and their label (Pneumonia/Not-Pneumonia)\n",
    "\n",
    "       \n",
    "    \n",
    "    "
   ]
  },
  {
   "cell_type": "code",
   "execution_count": null,
   "metadata": {
    "_cell_guid": "79c7e3d0-c299-4dcb-8224-4455121ee9b0",
    "_uuid": "d629ff2d2480ee46fbb7e2d37f6b5fab8052498a",
    "collapsed": true
   },
   "outputs": [],
   "source": [
    "mainDIR = os.listdir('../input/chest_xray/chest_xray')\n",
    "print(mainDIR)"
   ]
  },
  {
   "cell_type": "code",
   "execution_count": null,
   "metadata": {
    "_uuid": "6668dbb0df4eabcfc2b03988121efd344e8ac8d9",
    "collapsed": true
   },
   "outputs": [],
   "source": [
    "train_folder= '../input/chest_xray/chest_xray/train/'\n",
    "val_folder = '../input/chest_xray/chest_xray/val/'\n",
    "test_folder = '../input/chest_xray/chest_xray/test/'\n",
    "\n"
   ]
  },
  {
   "cell_type": "markdown",
   "metadata": {
    "_uuid": "349980d6dd9c5cd3b63088fa8a5e36f51f111e11"
   },
   "source": [
    "## Let's set up the training and testing folders.\n"
   ]
  },
  {
   "cell_type": "code",
   "execution_count": null,
   "metadata": {
    "_uuid": "ec6cbf95249e12579bda6894ad48c8ec3333c023",
    "collapsed": true
   },
   "outputs": [],
   "source": [
    "# train \n",
    "os.listdir(train_folder)\n",
    "train_n = train_folder+'NORMAL/'\n",
    "train_p = train_folder+'PNEUMONIA/'\n"
   ]
  },
  {
   "cell_type": "markdown",
   "metadata": {
    "_uuid": "56d25d7535438291157e8d4f5f1650b7467657ac"
   },
   "source": [
    "## Let's take a look at some of the pictures.\n",
    "\n"
   ]
  },
  {
   "cell_type": "code",
   "execution_count": null,
   "metadata": {
    "_uuid": "e15831c199b88e162aca013e00380d03808ca5d0",
    "collapsed": true
   },
   "outputs": [],
   "source": [
    "#Normal pic \n",
    "print(len(os.listdir(train_n)))\n",
    "rand_norm= np.random.randint(0,len(os.listdir(train_n)))\n",
    "norm_pic = os.listdir(train_n)[rand_norm]\n",
    "print('normal picture title: ',norm_pic)\n",
    "\n",
    "norm_pic_address = train_n+norm_pic\n",
    "\n",
    "#Pneumonia\n",
    "rand_p = np.random.randint(0,len(os.listdir(train_p)))\n",
    "\n",
    "sic_pic =  os.listdir(train_p)[rand_norm]\n",
    "sic_address = train_p+sic_pic\n",
    "print('pneumonia picture title:', sic_pic)\n",
    "\n",
    "# Load the images\n",
    "norm_load = Image.open(norm_pic_address)\n",
    "sic_load = Image.open(sic_address)\n",
    "\n",
    "#Let's plt these images\n",
    "f = plt.figure(figsize= (10,6))\n",
    "a1 = f.add_subplot(1,2,1)\n",
    "img_plot = plt.imshow(norm_load)\n",
    "a1.set_title('Normal')\n",
    "\n",
    "a2 = f.add_subplot(1, 2, 2)\n",
    "img_plot = plt.imshow(sic_load)\n",
    "a2.set_title('Pneumonia')"
   ]
  },
  {
   "cell_type": "markdown",
   "metadata": {
    "_uuid": "bb3a067a5eddf2b4935d0559eec59a212ead162d"
   },
   "source": [
    "**The above pictures are being generated randomly from the dataset. There are slight differences in the pictures, but  let's see if we can't create a Convolutional Neural Network which can create a more objective measure of quantifying and classifying these differences. **"
   ]
  },
  {
   "cell_type": "markdown",
   "metadata": {
    "_uuid": "c223fc665b67c5aa625074634dfaa65276291eea"
   },
   "source": [
    "# <font color ='purple'> Alright.... I don't know about you, but I am no X-Ray reading wizard, but these don't look too off to me. </font>\n",
    "\n",
    "There are some obvious differences in the rib cage shape of the patient who has pneumonia vs someone who is normal. However, other than that I can't tell anything else. \n",
    "\n",
    "There are two ways, we can resolve this problem:\n",
    "\n",
    "1. Go to Med-school and learn the skills that are necessary to read these figures and make educated guesses as to what they mean. \n",
    "\n",
    "2. Not go $250,000 in debt and train a Convolutional Nerual Network to tell me the differnces...\n",
    "\n",
    "# Soooo.....\n",
    "![https://media.giphy.com/media/l396ZJAsqbN5VX3O0/giphy.gif](http://media.giphy.com/media/l396ZJAsqbN5VX3O0/giphy.gif)\n",
    "\n",
    "\n"
   ]
  },
  {
   "cell_type": "markdown",
   "metadata": {
    "_uuid": "9597d13b611f762b3c971cefd754ca14d0f1b3aa"
   },
   "source": [
    "# <font color='red'> Have you ever wondered HOW and WHAT a computer sees?</font>\n",
    "\n",
    "The answer to that lies in mammilian physiology. The way we mammals and almost any other animal with two eyes and a developed brain sees is something as follows:\n",
    "1. Rays of lights reflected off an object hit your retina.\n",
    "2. The sensory input is transported to your brain.\n",
    "3. The brain, after interpreting the input, tells you what it sees. \n",
    "\n",
    "Also, recall that your family was there to teach you what things are. You know something is an umbrella because you look at it and someone told you that this specific object is called an umbrella. Your brain, then stores that association and you don't have to be taught this again. \n",
    "\n",
    "**Computers,** learn/see in not such a different way from us. They will, however, need to look and analyze thousands upon thousands of images before they can generalize and say that a yellow umbrella falls under the same category as a black umbrella. This is because what they see are not pictures, but numerical representaions of pixels describing these pictures. So while we see **'things** in pictures, a computer sees this\n",
    "![](https://cdn-images-1.medium.com/max/1600/1*cot55wd6gdoJlovlCw0AAQ.png)\n",
    "\n",
    "\n",
    "![https://media.giphy.com/media/ChzfTLSi47FYc/giphy.gif](https://media.giphy.com/media/ChzfTLSi47FYc/giphy.gif)\n",
    "\n",
    "\n"
   ]
  },
  {
   "cell_type": "markdown",
   "metadata": {
    "_uuid": "ee2ac7fa6cfa5c846afd9066c9016e9cf285ef92"
   },
   "source": [
    "# <font color='purple'>CONVOLUTIONAL NEURAL NETWORKS TO THE RESCUE</font>\n",
    "A Convolutional Neural Network is a special type of an Artificial Intelligence implementation which uses a  special mathematical matrix manipulation called the convolution operation to process data from the images.\n",
    "\n",
    "* A **convolution** does this by multiplying two matrices and yielding a third, smaller matrix. \n",
    "* The Network takes an input image, and uses a filter **(or kernel)**  to create a **feature map** describing the image. \n",
    "* In the convolution operation, we take a filter (usually 2x2 or 3x3 matrix ) and **slide** it over the image matrix. The coresponding numbers in both matrices are multiplied and and added to yield a single number describing that input space. This process is repeated all over the image.This can be seen in the following animation\n",
    "![https://cdn-images-1.medium.com/max/800/1*VVvdh-BUKFh2pwDD0kPeRA@2x.gif](https://cdn-images-1.medium.com/max/800/1*VVvdh-BUKFh2pwDD0kPeRA@2x.gif)                                     \n",
    "\n",
    "-------> This is a 2-D representation of calculations happening in 3 dimensions. This is what is actually happening \n",
    "![Source: https://cdn-images-1.medium.com/max/800/1*EuSjHyyDRPAQUdKCKLTgIQ.png](https://cdn-images-1.medium.com/max/800/1*EuSjHyyDRPAQUdKCKLTgIQ.png)      \n",
    "\n",
    "* We use different filters to pass over our inputs, and take all the feature maps, put them together as the final output of the convolutional layer.\n",
    "* We then pass the output of this layer through a non-linear activation function. The most commonly used one is ReLU. \n",
    "* The next step of our process involves further reducing the dimensionality of the data which will lower the computation power required for training this model. This is      achieved by using a **Pooling Layer.** The most commonly used one is **max pooling** which takes the maximum value in the window created by a filter. This              significantly reduces the training time and preserves significant information. \n",
    "![https://cdn-images-1.medium.com/max/800/1*vbfPq-HvBCkAcZhiSTZybg.png](https://cdn-images-1.medium.com/max/800/1*vbfPq-HvBCkAcZhiSTZybg.png)\n",
    "\n",
    "Two of the most commonly associated words with CNN are **stride** and **padding **\n",
    "\n",
    "**STRIDE:** Stride just means the amount a filter moves during a covolution operation. So, a stride of 1 means that the filter will slide 1 pixel after each covolution operation as shown in this animation.\n",
    "![https://cdn-images-1.medium.com/max/800/0*iqNdZWyNeCr5tCkc.](https://cdn-images-1.medium.com/max/800/0*iqNdZWyNeCr5tCkc.)\n",
    "\n",
    "**PADDING:** Padding is just zero value pixels that surround the input image. This protects the loss of any valuable information since the feature map is ever shrinking. \n",
    "\n",
    "*This section was inspired by this post: https://medium.freecodecamp.org/an-intuitive-guide-to-convolutional-neural-networks-260c2de0a050*\n",
    "\n",
    "*The gifs/animations are from this post: https://towardsdatascience.com/applied-deep-learning-part-4-convolutional-neural-networks-584bc134c1e2*\n"
   ]
  },
  {
   "cell_type": "markdown",
   "metadata": {
    "_uuid": "62161657afad004ab6bc4d49f3e959b4e47a46c8"
   },
   "source": [
    "# <font color='purple'> There you go....all caught up. No need to be scared. If this looks intimidating don't worry, it is pretty easy to implement. </font>\n",
    "\n",
    "![https://media.giphy.com/media/l3q2UyW34cT2rcgko/giphy.gif](https://media.giphy.com/media/l3q2UyW34cT2rcgko/giphy.gif)\n",
    "\n"
   ]
  },
  {
   "cell_type": "markdown",
   "metadata": {
    "_uuid": "884a53536da41c5d8ae94c34cc91f9d20b8154ac"
   },
   "source": [
    "# <font color ='purple'>Convolutional Neural Networks are easy to build and run because of the deep learning libraries such as Keras</font>\n",
    "* **Keras** is a high level deep learning library. \n",
    "* It runs on top of more low level libraries such as Tensorflow which is why you will usually see that message. 'Using TensorFlow backend.' display when you call Keras.\n",
    "* I am going to build a CNN that has 2 Convolution layers. After each convolution, I will add a Pooling layer using max-pooling. \n",
    "* After the second convolutional layer, we will add 2 Fully Connected layers which will take out feature map of an image and make predictions about it. The second FC  \n",
    "   has only 1 unit becuase it needs to predict if someone has pneumonia. \n",
    " * When we compile this CNN, we will use the Adam optimization fuction which optimizes how fast our model learns the correct classification of the image.                         Optimization functions are far too complex for me to get into in this post. \n"
   ]
  },
  {
   "cell_type": "code",
   "execution_count": null,
   "metadata": {
    "_uuid": "09cb0ddc4c955d29cc09ff0611983a5bdb107273",
    "collapsed": true
   },
   "outputs": [],
   "source": [
    "# let's build the CNN model\n",
    "\n",
    "cnn = Sequential()\n",
    "\n",
    "#Convolution\n",
    "cnn.add(Conv2D(32, (3, 3), activation=\"relu\", input_shape=(64, 64, 3)))\n",
    "\n",
    "#Pooling\n",
    "cnn.add(MaxPooling2D(pool_size = (2, 2)))\n",
    "\n",
    "# 2nd Convolution\n",
    "cnn.add(Conv2D(32, (3, 3), activation=\"relu\"))\n",
    "\n",
    "# 2nd Pooling layer\n",
    "cnn.add(MaxPooling2D(pool_size = (2, 2)))\n",
    "\n",
    "# Flatten the layer\n",
    "cnn.add(Flatten())\n",
    "\n",
    "# Fully Connected Layers\n",
    "cnn.add(Dense(activation = 'relu', units = 128))\n",
    "cnn.add(Dense(activation = 'sigmoid', units = 1))\n",
    "\n",
    "# Compile the Neural network\n",
    "cnn.compile(optimizer = 'adam', loss = 'binary_crossentropy', metrics = ['accuracy'])\n",
    "\n",
    "\n",
    "\n",
    "\n"
   ]
  },
  {
   "cell_type": "markdown",
   "metadata": {
    "_uuid": "36f4a86309c5fd0de5489ae73ae343160de20322"
   },
   "source": [
    "# <font color='purple'>Now, we are going to fit the model to our training dataset and we will keep out testing dataset seperate </font>"
   ]
  },
  {
   "cell_type": "code",
   "execution_count": null,
   "metadata": {
    "_uuid": "8618aa4b370306a8f5be8644e278810f42f05c89",
    "collapsed": true,
    "scrolled": true
   },
   "outputs": [],
   "source": [
    "# Fitting the CNN to the images\n",
    "# The function ImageDataGenerator augments your image by iterating through image as your CNN is getting ready to process that image\n",
    "\n",
    "train_datagen = ImageDataGenerator(rescale = 1./255,\n",
    "                                   shear_range = 0.2,\n",
    "                                   zoom_range = 0.2,\n",
    "                                   horizontal_flip = True)\n",
    "\n",
    "test_datagen = ImageDataGenerator(rescale = 1./255)  #Image normalization.\n",
    "\n",
    "training_set = train_datagen.flow_from_directory('../input/chest_xray/chest_xray/train',\n",
    "                                                 target_size = (64, 64),\n",
    "                                                 batch_size = 32,\n",
    "                                                 class_mode = 'binary')\n",
    "\n",
    "validation_generator = test_datagen.flow_from_directory('../input/chest_xray/chest_xray/val/',\n",
    "    target_size=(64, 64),\n",
    "    batch_size=32,\n",
    "    class_mode='binary')\n",
    "\n",
    "test_set = test_datagen.flow_from_directory('../input/chest_xray/chest_xray/test',\n",
    "                                            target_size = (64, 64),\n",
    "                                            batch_size = 32,\n",
    "                                            class_mode = 'binary')\n"
   ]
  },
  {
   "cell_type": "markdown",
   "metadata": {
    "_uuid": "630ae2fe31e5ec5bf6d0075b5ae25cd7071072ca"
   },
   "source": [
    "# This summary is a great way for us to see how our CNN is being set up"
   ]
  },
  {
   "cell_type": "code",
   "execution_count": null,
   "metadata": {
    "_uuid": "3bb0beb011d025b08e25e77315ea9f15c012f0c2",
    "collapsed": true
   },
   "outputs": [],
   "source": [
    "cnn.summary()"
   ]
  },
  {
   "cell_type": "code",
   "execution_count": null,
   "metadata": {
    "_uuid": "81aa075d45f40d9220ab40b6e2dad6fbb22f4afa",
    "collapsed": true,
    "scrolled": true
   },
   "outputs": [],
   "source": [
    "cnn_model = cnn.fit_generator(training_set,\n",
    "                         steps_per_epoch = 163,\n",
    "                         epochs = 10,\n",
    "                         validation_data = validation_generator,\n",
    "                         validation_steps = 624)"
   ]
  },
  {
   "cell_type": "code",
   "execution_count": null,
   "metadata": {
    "_uuid": "47d2bddcdbeeddfc4b21a58f811f8351ad9a880a",
    "collapsed": true
   },
   "outputs": [],
   "source": [
    "test_accu = cnn.evaluate_generator(test_set,steps=624)"
   ]
  },
  {
   "cell_type": "code",
   "execution_count": null,
   "metadata": {
    "_uuid": "7be33c14d0b10060194bacf774b161abab4a0875",
    "collapsed": true
   },
   "outputs": [],
   "source": [
    "print('The testing accuracy is :',test_accu[1]*100, '%')"
   ]
  },
  {
   "cell_type": "markdown",
   "metadata": {
    "_uuid": "c398dc0fe0869a1f46608e92d8f0b46fddad51eb"
   },
   "source": [
    "# <font color='green'>PHEW!!! So we just built a CNN that can predict penumonia from X-Ray scans !!! WOOOOO</font>\n",
    "\n",
    "\n",
    "![https://media.giphy.com/media/3ov9jG4eqz9k3XXsU8/giphy.gif](https://media.giphy.com/media/3ov9jG4eqz9k3XXsU8/giphy.gif)"
   ]
  },
  {
   "cell_type": "markdown",
   "metadata": {
    "_uuid": "aecf0006c96bd8aa283080733dea695d8eeb8632"
   },
   "source": [
    "# <font color='purple'>Now, let's see how accuracy changed over our training and Validation Set and also how our Loss function changed!!</font>"
   ]
  },
  {
   "cell_type": "code",
   "execution_count": null,
   "metadata": {
    "_uuid": "4bf76f892df1d27ee05506a7a6ef88fb3ff6450f",
    "collapsed": true
   },
   "outputs": [],
   "source": [
    "# Accuracy \n",
    "plt.plot(cnn_model.history['acc'])\n",
    "plt.plot(cnn_model.history['val_acc'])\n",
    "plt.title('Model Accuracy')\n",
    "plt.ylabel('Accuracy')\n",
    "plt.xlabel('Epoch')\n",
    "plt.legend(['Training set', 'Validation set'], loc='upper left')\n",
    "plt.show()\n"
   ]
  },
  {
   "cell_type": "code",
   "execution_count": null,
   "metadata": {
    "_uuid": "b81674619edc7adc0d1fd0952c6ec665b41c0e04",
    "collapsed": true
   },
   "outputs": [],
   "source": [
    "# Loss \n",
    "\n",
    "plt.plot(cnn_model.history['val_loss'])\n",
    "plt.plot(cnn_model.history['loss'])\n",
    "plt.title('Model Loss')\n",
    "plt.ylabel('Loss')\n",
    "plt.xlabel('Epoch')\n",
    "plt.legend(['Training set', 'Test set'], loc='upper left')\n",
    "plt.show()"
   ]
  },
  {
   "cell_type": "markdown",
   "metadata": {
    "_uuid": "b0021ad62299f11bf65567dc698d5cf2642b8c77"
   },
   "source": [
    "# <font color='red'> What this means? </font>\n",
    "The world of medical imaging is ripe for a revolution in terms of deploying CNN based technologies. There is no need for a doctor or a health care provider to ponder these images to gauge things. This is not a shot at doctors or their jobs! The task of reading these is incredibly menial and repititive. Those are two things that AI technologies are great at. I will be working with some more bio-medical imaging dataset just to get more practice and probably create some web applications online for atleast one of them!!"
   ]
  }
 ],
 "metadata": {
  "kernelspec": {
   "display_name": "Python 3",
   "language": "python",
   "name": "python3"
  },
  "language_info": {
   "codemirror_mode": {
    "name": "ipython",
    "version": 3
   },
   "file_extension": ".py",
   "mimetype": "text/x-python",
   "name": "python",
   "nbconvert_exporter": "python",
   "pygments_lexer": "ipython3",
   "version": "3.6.3"
  }
 },
 "nbformat": 4,
 "nbformat_minor": 1
}
